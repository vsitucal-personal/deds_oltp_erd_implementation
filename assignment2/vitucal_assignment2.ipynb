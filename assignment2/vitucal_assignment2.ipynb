{
 "cells": [
  {
   "cell_type": "markdown",
   "id": "9ee1c520-13de-48b7-b0ac-4a76d187f010",
   "metadata": {},
   "source": [
    "# DEDS Assignment 2\n",
    "\n",
    "Author: Vincent Itucal"
   ]
  },
  {
   "cell_type": "code",
   "execution_count": null,
   "id": "f2a181ac-9a4d-4279-91dd-f6cc66083299",
   "metadata": {},
   "outputs": [],
   "source": []
  }
 ],
 "metadata": {
  "kernelspec": {
   "display_name": "deds",
   "language": "python",
   "name": "deds"
  },
  "language_info": {
   "codemirror_mode": {
    "name": "ipython",
    "version": 3
   },
   "file_extension": ".py",
   "mimetype": "text/x-python",
   "name": "python",
   "nbconvert_exporter": "python",
   "pygments_lexer": "ipython3",
   "version": "3.11.9"
  }
 },
 "nbformat": 4,
 "nbformat_minor": 5
}
